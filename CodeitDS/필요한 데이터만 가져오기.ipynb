{
 "cells": [
  {
   "cell_type": "code",
   "execution_count": null,
   "metadata": {},
   "outputs": [],
   "source": [
    "import time\n",
    "import requests\n",
    "from bs4 import BeautifulSoup\n",
    "\n",
    "# 빈 리스트 생성\n",
    "pages = []\n",
    "\n",
    "# 첫 페이지 번호 지정\n",
    "page_num = 1\n",
    "\n",
    "while True:\n",
    "    # HTML 코드 받아오기\n",
    "    response = requests.get(\"http://www.ssg.com/search.ssg?target=all&query=nintendo&page=\" + str(page_num))\n",
    "\n",
    "    # BeautifulSoup 타입으로 변환하기\n",
    "    soup = BeautifulSoup(response.text, 'html.parser')\n",
    "\n",
    "    # \".csrch_tip\" 클래스가 없을 때만 HTML 코드를 리스트에 담기\n",
    "    if len(soup.select('.csrch_tip')) == 0:\n",
    "        pages.append(soup)\n",
    "        print(str(page_num) + \"번째 페이지 가져오기 완료\")\n",
    "        page_num += 1\n",
    "        time.sleep(3)\n",
    "    else:\n",
    "        break\n",
    "\n",
    "# 가져온 페이지 개수 출력하기\n",
    "print(len(pages))"
   ]
  },
  {
   "cell_type": "code",
   "execution_count": null,
   "metadata": {},
   "outputs": [],
   "source": [
    "import requests\n",
    "from bs4 import BeautifulSoup\n",
    "\n",
    "# 코드를 작성하세요.\n",
    "import requests\n",
    "from bs4 import BeautifulSoup\n",
    "\n",
    "# 빈 리스트 생성\n",
    "rating_pages = []\n",
    "\n",
    "for year in range(2010,2019):\n",
    "    for month in range(1,13):\n",
    "        for week in range(0,5):\n",
    "            response = requests.get('https://workey.codeit.kr/ratings/index?year='+str(year)+'&month='+str(month)+'&weekIndex='+str(week))\n",
    "            soup = BeautifulSoup(response.text, 'html.parser')\n",
    "            if len(soup.select('.row')) > 0:\n",
    "                rating_pages.append(response.text)\n",
    "\n",
    "\n",
    "# 테스트 코드\n",
    "print(len(rating_pages)) # 가져온 총 페이지 수 \n",
    "print(rating_pages[0]) # 첫 번째 페이지의 HTML 코드"
   ]
  }
 ],
 "metadata": {
  "kernelspec": {
   "display_name": "Python 3",
   "language": "python",
   "name": "python3"
  },
  "language_info": {
   "codemirror_mode": {
    "name": "ipython",
    "version": 3
   },
   "file_extension": ".py",
   "mimetype": "text/x-python",
   "name": "python",
   "nbconvert_exporter": "python",
   "pygments_lexer": "ipython3",
   "version": "3.8.5"
  }
 },
 "nbformat": 4,
 "nbformat_minor": 4
}
